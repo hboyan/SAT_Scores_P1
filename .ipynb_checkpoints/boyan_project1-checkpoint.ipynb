{
 "cells": [
  {
   "cell_type": "code",
   "execution_count": 425,
   "metadata": {
    "collapsed": true
   },
   "outputs": [],
   "source": [
    "#Author: Haley Boyan\n",
    "#Project 1: Exploratory Data Analysis\n",
    "\n",
    "# Requirements\n",
    "# Describe your data\n",
    "# Perform exploratory analysis methods with visualization and statistical analysis\n",
    "# Use MatPlotLib and Tableau to create visualizations\n",
    "# Use NumPy to apply basic summary statistics: mean, median, mode\n",
    "# Determine if dataset appears to follow a normal distribution\n",
    "# Bonus:\n",
    "# Recreate all of your MatPlotLib graphs in Tableau\n",
    "# Recreate all of your MatPlotLib graphs in Seaborn\n",
    "# Create a blog post describing your data, analysis, and approach.\n"
   ]
  },
  {
   "cell_type": "code",
   "execution_count": 426,
   "metadata": {
    "collapsed": false
   },
   "outputs": [
    {
     "name": "stdout",
     "output_type": "stream",
     "text": [
      "1. What does the data describe?\n",
      "It describes SAT test results from around the country, showing, by state, the percentage of students who took the test as well as their average scores. \n",
      "\n",
      "2. Does the data look complete? Are there any obvious issues with the observations?\n",
      "The data does appear complete, although explanations for the headings (score range, etc.)would be useful. The most apparent problem is that some states had a very small sample size,so information extrapolated from that data may be less informative than larger groups.\n",
      "\n",
      "3. Create a data dictionary for the dataset.\n",
      "scores = {'state':,'rate':,'verbal':,'math':}\n"
     ]
    }
   ],
   "source": [
    "# Step 1: Open the sat_scores.csv file. Investigate the data, and answer the questions below.\n",
    "print(\"\\\n",
    "1. What does the data describe?\\n\\\n",
    "It describes SAT test results from around the country, showing, by state, \\\n",
    "the percentage of students who took the test as well as their average scores. \\n\\n\\\n",
    "2. Does the data look complete? Are there any obvious issues with the observations?\\n\\\n",
    "The data does appear complete, although explanations for the headings (score range, etc.)\\\n",
    "would be useful. The most apparent problem is that some states had a very small sample size,\\\n",
    "so information extrapolated from that data may be less informative than larger groups.\\n\\n\\\n",
    "3. Create a data dictionary for the dataset.\\n\\\n",
    "scores = {'state':,'rate':,'verbal':,'math':}\\\n",
    "\")\n"
   ]
  },
  {
   "cell_type": "code",
   "execution_count": 427,
   "metadata": {
    "collapsed": false
   },
   "outputs": [],
   "source": [
    "import csv \n",
    "import numpy as np\n",
    "\n",
    "# Step 2: Load the data.\n",
    "# 4. Load the data into a list of lists\n",
    "f = open(\"sat_scores.csv\")\n",
    "csv_f = csv.reader(f)\n",
    "sat_data = []\n",
    "for row in csv_f:\n",
    "    sat_data.append(row)"
   ]
  },
  {
   "cell_type": "code",
   "execution_count": 428,
   "metadata": {
    "collapsed": false,
    "scrolled": true
   },
   "outputs": [
    {
     "name": "stdout",
     "output_type": "stream",
     "text": [
      "[['State', 'Rate', 'Verbal', 'Math'], ['CT', '82', '509', '510'], ['NJ', '81', '499', '513'], ['MA', '79', '511', '515'], ['NY', '77', '495', '505'], ['NH', '72', '520', '516'], ['RI', '71', '501', '499'], ['PA', '71', '500', '499'], ['VT', '69', '511', '506'], ['ME', '69', '506', '500'], ['VA', '68', '510', '501'], ['DE', '67', '501', '499'], ['MD', '65', '508', '510'], ['NC', '65', '493', '499'], ['GA', '63', '491', '489'], ['IN', '60', '499', '501'], ['SC', '57', '486', '488'], ['DC', '56', '482', '474'], ['OR', '55', '526', '526'], ['FL', '54', '498', '499'], ['WA', '53', '527', '527'], ['TX', '53', '493', '499'], ['HI', '52', '485', '515'], ['AK', '51', '514', '510'], ['CA', '51', '498', '517'], ['AZ', '34', '523', '525'], ['NV', '33', '509', '515'], ['CO', '31', '539', '542'], ['OH', '26', '534', '439'], ['MT', '23', '539', '539'], ['WV', '18', '527', '512'], ['ID', '17', '543', '542'], ['TN', '13', '562', '553'], ['NM', '13', '551', '542'], ['IL', '12', '576', '589'], ['KY', '12', '550', '550'], ['WY', '11', '547', '545'], ['MI', '11', '561', '572'], ['MN', '9', '580', '589'], ['KS', '9', '577', '580'], ['AL', '9', '559', '554'], ['NB', '8', '562', '568'], ['OK', '8', '567', '561'], ['MO', '8', '577', '577'], ['LA', '7', '564', '562'], ['WI', '6', '584', '596'], ['AR', '6', '562', '550'], ['UT', '5', '575', '570'], ['IA', '5', '593', '603'], ['SD', '4', '577', '582'], ['ND', '4', '592', '599'], ['MS', '4', '566', '551']]\n"
     ]
    }
   ],
   "source": [
    "# 5. Print the data\n",
    "print sat_data"
   ]
  },
  {
   "cell_type": "code",
   "execution_count": 429,
   "metadata": {
    "collapsed": false
   },
   "outputs": [],
   "source": [
    "# 6. Extract a list of the labels from the data, and remove them from the data.\n",
    "labels = sat_data.pop(0)"
   ]
  },
  {
   "cell_type": "code",
   "execution_count": 430,
   "metadata": {
    "collapsed": false
   },
   "outputs": [],
   "source": [
    "#7. Create a list of State names extracted from the data. \n",
    "states = []\n",
    "for item in sat_data:\n",
    "    states.append(item[0])"
   ]
  },
  {
   "cell_type": "code",
   "execution_count": 431,
   "metadata": {
    "collapsed": false,
    "scrolled": true
   },
   "outputs": [
    {
     "name": "stdout",
     "output_type": "stream",
     "text": [
      "State<type 'str'>\n",
      "Rate<type 'str'>\n",
      "Verbal<type 'str'>\n",
      "Math<type 'str'>\n"
     ]
    }
   ],
   "source": [
    "# 8. Print the types of each column\n",
    "for label,item in zip(labels,sat_data[0]):\n",
    "    print label + str(type(item))"
   ]
  },
  {
   "cell_type": "code",
   "execution_count": 432,
   "metadata": {
    "collapsed": false
   },
   "outputs": [
    {
     "name": "stdout",
     "output_type": "stream",
     "text": [
      "State<type 'str'>\n",
      "Rate<type 'float'>\n",
      "Verbal<type 'int'>\n",
      "Math<type 'int'>\n"
     ]
    }
   ],
   "source": [
    "# 9. Do any types need to be reassigned? If so, go ahead and do it.\n",
    "for state in sat_data:\n",
    "    state[1] = (float(state[1])/100)\n",
    "    state[2] = int(state[2])\n",
    "    state[3] = int(state[3])\n",
    "\n",
    "for label,item in zip(labels,sat_data[0]):\n",
    "    print label + str(type(item))"
   ]
  },
  {
   "cell_type": "code",
   "execution_count": 433,
   "metadata": {
    "collapsed": false
   },
   "outputs": [],
   "source": [
    "# 10. Create a dictionary for each column mapping the State to its respective value for that column.\n",
    "math_scores = {}\n",
    "verbal_scores = {}\n",
    "rates = {}\n",
    "\n",
    "for item in sat_data:\n",
    "    math_scores[item[0]] = item[3]\n",
    "    verbal_scores[item[0]] = item[2]\n",
    "    rates[item[0]] = item[1]"
   ]
  },
  {
   "cell_type": "code",
   "execution_count": 438,
   "metadata": {
    "collapsed": false
   },
   "outputs": [
    {
     "name": "stdout",
     "output_type": "stream",
     "text": [
      "Math scores: \n",
      "Top: IA 603\n",
      "Bottom: OH 439\n",
      "Verbal scores: \n",
      "Top: IA 593\n",
      "Bottom: DC 482\n",
      "Participation Rates: \n",
      "Top: CT 0.82\n",
      "Bottom: ND 0.04\n"
     ]
    }
   ],
   "source": [
    "# Step 3: Describe the data\n",
    "# 12. Print the min and max of each column\n",
    "def listends(list):\n",
    "    maxlist = max(list, key=lambda i: list[i])\n",
    "    print \"Top: \"+str(maxlist)+\" \"+str(list[maxlist])\n",
    "    minlist = min(list, key=lambda i: list[i])\n",
    "    print \"Bottom: \"+str(minlist)+\" \"+str(list[minlist])\n",
    "\n",
    "print \"Math scores: \"\n",
    "listends(math_scores)\n",
    "print \"Verbal scores: \"\n",
    "listends(verbal_scores)\n",
    "print \"Participation Rates: \"\n",
    "listends(rates)"
   ]
  },
  {
   "cell_type": "code",
   "execution_count": 435,
   "metadata": {
    "collapsed": false
   },
   "outputs": [
    {
     "name": "stdout",
     "output_type": "stream",
     "text": [
      "Standard Deviations: \n",
      "Math: 35.9298731731\n",
      "Verbal: 33.0319826842\n",
      "Attendance Rates: 0.272792386761\n"
     ]
    }
   ],
   "source": [
    "\n",
    "# 13. Write a function using only list comprehensions, no loops, to compute Standard Deviation. \n",
    "# Print the Standard Deviation of each numeric column.\n",
    "def std_dev(dict):\n",
    "    return np.std([dict[x] for x in dict])\n",
    "print \"Standard Deviations: \"\n",
    "print \"Math: \"+str(std_dev(math_scores))\n",
    "print \"Verbal: \"+str(std_dev(verbal_scores))\n",
    "print \"Attendance Rates: \"+str(std_dev(rates))\n"
   ]
  },
  {
   "cell_type": "code",
   "execution_count": 436,
   "metadata": {
    "collapsed": true
   },
   "outputs": [],
   "source": [
    "#\n",
    "# Step 4: Visualize the data\n",
    "# 14. Using MatPlotLib and PyPlot, plot the distribution of the Rate using histograms.\n",
    "# In [ ]:\n",
    "#\n",
    "# 15. Plot the Math distribution\n",
    "# In [ ]:\n",
    "#\n",
    "# 16. Plot the Verbal distribution\n",
    "# In [ ]:\n",
    "#\n",
    "# 17. What is the typical assumption for data distribution?\n",
    "# In [ ]:\n",
    "#\n",
    "# 18. Does that distribution hold true for our data?\n",
    "# In [ ]:\n",
    "#\n",
    "# 19. Plot some scatterplots. BONUS: Use a PyPlot figure to present multiple plots at once.\n",
    "# In [ ]:\n",
    "#\n",
    "# 20. Are there any interesting relationships to note?\n",
    "# In [ ]:\n",
    "#\n",
    "# 21. Create box plots for each variable.\n",
    "# In [ ]:\n",
    "#\n",
    "# BONUS: Using Tableau, create a heat map for each variable using a map of the US.\n",
    "# In [ ]:\n",
    "#"
   ]
  }
 ],
 "metadata": {
  "kernelspec": {
   "display_name": "Python 2",
   "language": "python",
   "name": "python2"
  },
  "language_info": {
   "codemirror_mode": {
    "name": "ipython",
    "version": 2
   },
   "file_extension": ".py",
   "mimetype": "text/x-python",
   "name": "python",
   "nbconvert_exporter": "python",
   "pygments_lexer": "ipython2",
   "version": "2.7.11"
  }
 },
 "nbformat": 4,
 "nbformat_minor": 0
}
